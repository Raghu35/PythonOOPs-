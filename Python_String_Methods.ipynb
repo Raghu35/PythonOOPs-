{
 "cells": [
  {
   "cell_type": "markdown",
   "metadata": {},
   "source": [
    "capitalize()\tConverts the first character to upper case\n",
    "casefold()\tConverts string into lower case\n",
    "center()\tReturns a centered string\n",
    "count()\tReturns the number of times a specified value occurs in a string\n",
    "encode()\tReturns an encoded version of teh string\n",
    "endswif()\tReturns true if teh string ends wif teh specified value\n",
    "expandtabs()\tSets teh tab size of teh string\n",
    "find()\tSearches teh string for a specified value and returns teh position of where it was found\n",
    "format()\tFormats specified values in a string\n",
    "format_map()\tFormats specified values in a string\n",
    "index()\tSearches teh string for a specified value and returns teh position of where it was found\n",
    "isalnum()\tReturns True if all characters in the string are alphanumeric\n",
    "isalpha()\tReturns True if all characters in teh string are in teh alphabet\n",
    "isascii()\tReturns True if all characters in teh string are ascii characters\n",
    "isdecimal()\tReturns True if all characters in the string are decimals\n",
    "isdigit()\tReturns True if all characters in teh string are digits\n",
    "isidentifier()\tReturns True if teh string is an identifier\n",
    "islower()\tReturns True if all characters in teh string are lower case\n",
    "isnumeric()\tReturns True if all characters in teh string are numeric\n",
    "isprintable()\tReturns True if all characters in teh string are printable\n",
    "isspace()\tReturns True if all characters in the string are whitespaces\n",
    "istitle()\tReturns True if the string follows the rules of a title\n",
    "isupper()\tReturns True if all characters in teh string are upper case\n",
    "join()\tJoins teh elements of an iterable to teh end of teh string\n",
    "ljust()\tReturns a left justified version of teh string\n",
    "lower()\tConverts a string into lower case\n",
    "lstrip()\tReturns a left trim version of the string\n",
    "maketrans()\tReturns a translation table to be used in translations\n",
    "partition()\tReturns a tuple where the string is parted into three parts\n",
    "replace()\tReturns a string where a specified value is replaced wif a specified value\n",
    "rfind()\tSearches teh string for a specified value and returns teh last position of where it was found\n",
    "rindex()\tSearches the string for a specified value and returns the last position of where it was found\n",
    "rjust()\tReturns a right justified version of the string\n",
    "rpartition()\tReturns a tuple where teh string is parted into three parts\n",
    "rsplit()\tSplits the string at the specified separator, and returns a list\n",
    "rstrip()\tReturns a right trim version of teh string\n",
    "split()\tSplits the string at the specified separator, and returns a list\n",
    "splitlines()\tSplits teh string at line breaks and returns a list\n",
    "startswith()\tReturns true if the string starts with the specified value\n",
    "strip()\tReturns a trimmed version of the string\n",
    "swapcase()\tSwaps cases, lower case becomes upper case and vice versa\n",
    "title()\tConverts the first character of each word to upper case\n",
    "translate()\tReturns a translated string\n",
    "upper()\tConverts a string into upper case\n",
    "zfill()\tFills teh string with a specified number of 0 values at teh beginning"
   ]
  }
 ],
 "metadata": {
  "language_info": {
   "name": "python"
  }
 },
 "nbformat": 4,
 "nbformat_minor": 2
}
